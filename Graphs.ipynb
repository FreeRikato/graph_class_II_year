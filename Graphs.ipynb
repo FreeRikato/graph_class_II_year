{
 "cells": [
  {
   "cell_type": "markdown",
   "id": "3e08b488-61e7-44ee-b25d-0a24aef4ef75",
   "metadata": {},
   "source": [
    "# Graph"
   ]
  },
  {
   "cell_type": "markdown",
   "id": "de85475a-54ee-4009-9f9e-c9c8447116f1",
   "metadata": {},
   "source": [
    "**Description**: This notebook contains elaborate notes on Graph for Data structures and algorithms. \n",
    "\n",
    ">Note: This Python notebook utilizes xeus cling to enable C++ code execution within Jupyter Lab. Since this is an experimental feature, interpreter errors might occur. If you encounter any issues, try running the code again. Alternatively, you can fork the repository using the GitHub link below and execute it, or create a GitHub Codespace instance to run it in a separate sandbox environment.\n",
    "\n",
    "\n",
    "Github link => [Graph](https://github.com/FreeRikato/DSA/tree/master/Problems/Graph)"
   ]
  },
  {
   "cell_type": "markdown",
   "id": "71e0a698-72b4-461a-97d9-be1d2026bd1a",
   "metadata": {},
   "source": [
    "Todos\n",
    "- [x] Prerequisite Concepts for Graph => Basic Data Structures, Recursion Concepts\n",
    "- [x] Graph Theory => Types of Grpah, Representation, Terminologies, Identification and Visualization\n",
    "- [x] Graph Traversal => DFS, BFS, Intuition to code and Practice Sums\n",
    "- [ ] Repository for the code => Intution to code, Practice Sums and Placement Preparation"
   ]
  },
  {
   "attachments": {},
   "cell_type": "markdown",
   "id": "ac99b179-5dfb-487e-a8eb-2c357f874a61",
   "metadata": {},
   "source": [
    "## Prerequisite Concepts for Graph"
   ]
  },
  {
   "cell_type": "markdown",
   "id": "ccf95228-8d1e-4d05-9027-c22dbe8d5a78",
   "metadata": {},
   "source": [
    "### Basic Data structures\n",
    "- Arrays and list: Representing graphs, especially when using adjacency lists\n",
    "- Stacks and Queues:\n",
    "    - BFS uses a queue (FIFO) for traversal\n",
    "    - DFS uses a stack (LIFO) for traversal\n",
    "    - Implemented using recursion or an explicit stack"
   ]
  },
  {
   "cell_type": "markdown",
   "id": "52329ede-a4a7-4a83-8c42-b27d4a31267c",
   "metadata": {},
   "source": [
    "### Recursion Concepts\n",
    "\n",
    "![image.png](./files/recursionMeme.png)\n",
    "\n",
    "=> Function calls itself + solve a smaller instance of the same problem + until it reaches a base case\n",
    "\n",
    "=> Recursion is a very important concept, used in the harder DSA concepts like Trees, Graphs and Dynamic programming\n",
    "\n",
    "[Visualizing Recursion tree with visualgo](https://visualgo.net/en/recursion)\n",
    "\n",
    "- Base case\n",
    "- Recursive case\n",
    "- Call Stack"
   ]
  },
  {
   "cell_type": "markdown",
   "id": "be7c4a6f-5af0-4ce4-a2b5-ea30eea98c7e",
   "metadata": {},
   "source": [
    "## Graph Theory\n",
    "\n",
    "### Basics\n",
    "\n",
    "![](./files/graphSocialMedia.png)\n",
    "\n",
    "- Vertices/Nodes (Entities -> Account) and Edges (Relationship between entities -> Connection between accounts)\n",
    "- Vertices along with edges together, are called as graph\n",
    "- The vertices that are joined by an edge are called 'adjacent'\n",
    "\n",
    "![](./files/graphStructure.png)\n",
    "\n",
    "#### Types of Graphs\n",
    "\n",
    " - Directed vs Undirected\n",
    "\n",
    " ![](./files/directedVsUnidrected.png)\n",
    "\n",
    "- Weighted vs Unweighted\n",
    "\n",
    "![](./files/weightedVsUnweighted.png)"
   ]
  },
  {
   "cell_type": "markdown",
   "id": "62503375-d16d-49b6-842b-e168329b9585",
   "metadata": {},
   "source": [
    "#### Graph Representation:\n",
    "\n",
    "> 1. Adjacency matrix: A 2D array to represent edge connections i.e, If there are V vertices, take a matrix of VxV and store which vertices are adjacent to which vertices\n",
    "\n",
    "![](./files/adjacencyMatrix.png)\n",
    "\n",
    "![](./files/adjacentMatrix2.png)\n",
    "\n",
    "\n",
    ">\n",
    "> - If the graph is directed, the matrix would be asymmetrical\n",
    ">\n",
    "> - If the graph is weighted, store the weight in matrix instead of true/false\n",
    ">\n",
    "\n",
    "![](./files/adjacencyMatrix3.png)\n",
    "\n",
    "![](./files/adjacencyMatrix4.png)\n",
    "\n",
    ">\n",
    "> Drawback: Takes O(V^2) memory even if number of edges is small\n",
    ">\n",
    "> For example,\n",
    ">\n",
    ">> * Number of Vertices = 10^5\n",
    ">>\n",
    ">> * Then, Number of Edges to be represented in matrix = 10^5 * 10^5 = 10^10\n",
    ">\n",
    "\n",
    "> 2. Adjacency list: An array of lists where each list represents a vertex and its adjacent vertices i.e, for each of the V vertices, keep a list of vertices which are adjacent to it\n",
    "\n",
    "![](./files/adjacencyList.png)\n",
    "\n",
    "> Graphs, in which the number of edges aren't a lot compared to the number of vertices, are called \"Sparse Graphs\". Adjacency List representation is necessary when dealing with sparse graphs.\n",
    "\n",
    "![](./files/adjacencyList2.png)\n",
    "\n",
    "> - If the graph is weighted, store a pair of {vertex, weight} for all outgoing edges.\n",
    ">\n",
    "> Advantage: Takes only O(V+E) memory. (V lists and every edge adds 2 items to the lists in total)\n",
    ">\n",
    "> Note: The number of items in the adjacency list of a vertex is called the \"degree\" of that vertex"
   ]
  },
  {
   "cell_type": "markdown",
   "id": "870421bb-5818-4568-88d6-078ece568bb8",
   "metadata": {},
   "source": [
    "#### Understanding Graph to solve problems:\n",
    "> Which of the metal nails will give you an electric shock upon touching?\n",
    "\n",
    "![](./files/nailProblem.png)\n",
    "\n",
    "> This introduces the concept of “Connectivity” in a graph.\n",
    "\n",
    "![](./files/nailProblem2.png)"
   ]
  },
  {
   "cell_type": "markdown",
   "id": "6b66fece-1c4d-49a5-9ca3-e1bb8ffbb410",
   "metadata": {},
   "source": [
    "#### Terminology related to Connectivity (or Reachability)\n",
    "\n",
    "- `Path` : A sequence of *distinct* vertices such as A1 -> A2 -> A3 -> A4, such that there is an edge from A(x) to A(x+1)\n",
    "- `Connectivity` : Vertex X is connected to Vertex Y if there is at least 1 path from X to Y\n",
    "- `Connected Component` : A maximum group of vertices such that each of them is connected to one other\n",
    "\n",
    "![](./files/connectivity.png)"
   ]
  },
  {
   "cell_type": "markdown",
   "id": "beecaef9-be8c-4a9e-83c4-bae808292f04",
   "metadata": {},
   "source": [
    "#### How to find a connected component?\n",
    "\n",
    "1. Start from a vertex\n",
    "2. All vertices adjacent to that vertex are in the same connected component\n",
    "3. All of the vertices to those are in the same connected component and so on.\n",
    "\n",
    "![](./files/traverseConnectedComponent.png)\n",
    "\n",
    "- There arises an issue where undirected graphs have vertices linked to each other\n",
    "\n",
    ">- Ever been lost in a maze? Try marking some marks in the places you've already been,\n",
    ">\n",
    ">- so you don't get stuck in infinite loops."
   ]
  },
  {
   "cell_type": "markdown",
   "id": "b2458c6c-26c0-4236-8a98-64cba133150a",
   "metadata": {},
   "source": [
    "#### Identifying a Graph Problem\n",
    "\n",
    "A problem can be identified as a graph problem if it involves entities and relationships between them. Here are some common indicators:\n",
    "\n",
    "1. **Paths and Connectivity**: If the problem involves finding paths, shortest paths, or connectivity between entities (e.g., cities, network nodes), it is likely a graph problem.\n",
    "2. **Relationships**: When entities have relationships that can be represented as edges between nodes (e.g., social networks, road networks).\n",
    "3. **Traversal**: If the problem requires visiting or traversing nodes in a specific manner (e.g., exploring all possible routes, searching for a specific node).\n",
    "4. **Cycles and Components**: Problems involving detecting cycles, strongly connected components, or connected components.\n",
    "5. **Optimization**: If the problem involves optimizing some criteria over a network of nodes and edges (e.g., minimum spanning tree, maximum flow).\n"
   ]
  },
  {
   "cell_type": "markdown",
   "id": "61674d99-2f64-45fe-9603-63baa6911241",
   "metadata": {},
   "source": [
    "### Graph Traversal\n",
    "\n",
    "![](./files/simpleTraversalExample.png)\n",
    "\n",
    "![](./files/traversalExample.png)\n",
    "\n",
    "![](./files/BFStraversalExample.png)\n",
    "\n",
    "![](./files/DFStraversalExample.png)"
   ]
  },
  {
   "cell_type": "markdown",
   "id": "4eb251e2-4557-4c72-a15e-d3272a22e60c",
   "metadata": {},
   "source": [
    "##### Cycles in a Graph and Tree\n",
    "\n",
    "- A cycle is like a path that starts and ends at the same vertex\n",
    "- For example, 2 -> 3 -> 4 -> 2\n",
    "- A Connected graph without Cycles is called Tree. (A Disconnected Graph without cycles is called Forest.\n",
    "\n",
    "![](./files/cycleExample.png)\n",
    "\n",
    "![](./files/treeExample.png)"
   ]
  },
  {
   "cell_type": "markdown",
   "id": "16d135fb-1062-4e36-b830-5070e4aa28bc",
   "metadata": {},
   "source": [
    "#### DFS\n",
    "\n",
    "[Visualize DFS with VisualGo](https://visualgo.net/en/dfsbfs)\n",
    "\n",
    "We firstly go as deep as possible in a certain direction before going elsewhere\n",
    "\n",
    "![](./files/dfsCode.png)\n",
    "\n",
    "\n",
    "> Time Complexity: O(V + E), because every vertex is visited only once, and every edge is considered only twice, once from while visiting each of the end points of the edge"
   ]
  },
  {
   "cell_type": "markdown",
   "id": "33bf5292-633a-4113-a750-24903bce4274",
   "metadata": {},
   "source": [
    "#### Build Intuition in DFS to code\n",
    "\n",
    "1. DFS Graph Traversal\n",
    "    - Problem: Given a graph, traverse all the nodes and print them.\n",
    "    - Learning: Basic implementation of DFS, handling graph representations (adjacency list/matrix), and understanding the traversal order. \n",
    "2. Cycle Detection in Undirected Graph:\n",
    "    - Problem: Determine if a given undirected graph contains a cycle.\n",
    "    - Learning: Using DFS to backtrack and detect cycles by keeping track of visited nodes and their ancestors.\n",
    "3. Connected Components:\n",
    "    - Problem: Find all connected components in an undirected graph.\n",
    "    - Learning: Applying DFS to explore and identify different connected components, marking nodes as visited in each component.\n",
    "4. Topological Sorting:\n",
    "    - Problem: Perform a topological sort on a directed acyclic graph (DAG).\n",
    "    - Learning: Utilizing DFS to order nodes such that for every directed edge UV, vertex U comes before vertex V.\n",
    "5. Pathfinding in a Maze:\n",
    "    - Problem: Given a maze represented as a 2D grid, find a path from the start to the end.\n",
    "    - Learning: Adapting DFS to navigate a 2D grid, marking paths, and backtracking when hitting dead ends."
   ]
  },
  {
   "cell_type": "markdown",
   "id": "d1ba8caa-f67e-47f4-ba3e-f983e99bc61a",
   "metadata": {},
   "source": [
    "##### DFS Graph Traversal"
   ]
  },
  {
   "cell_type": "code",
   "execution_count": 42,
   "id": "718eb63d-79f1-453c-b25a-086f61b45d22",
   "metadata": {},
   "outputs": [],
   "source": [
    "#include <iostream>\n",
    "#include <vector>\n",
    "#include <stack>\n",
    "using namespace std;"
   ]
  },
  {
   "cell_type": "code",
   "execution_count": 43,
   "id": "8c04b5ad-ab53-4e7b-9173-57b155880380",
   "metadata": {},
   "outputs": [],
   "source": [
    "// Function to perform DFS traversal\n",
    "void DFS(int node, vector<vector<int>>& adjList, vector<bool>& visited) {\n",
    "    stack<int> s;\n",
    "    s.push(node);\n",
    "\n",
    "    while (!s.empty()) {\n",
    "        int current = s.top();\n",
    "        s.pop();\n",
    "\n",
    "        if (!visited[current]) {\n",
    "            cout << current << \" \";\n",
    "            visited[current] = true;\n",
    "        }\n",
    "\n",
    "        for (int i = adjList[current].size() - 1; i >= 0; --i) {\n",
    "            if (!visited[adjList[current][i]]) {\n",
    "                s.push(adjList[current][i]);\n",
    "            }\n",
    "        }\n",
    "    }\n",
    "}"
   ]
  },
  {
   "cell_type": "code",
   "execution_count": 44,
   "id": "a8576b30-78a7-4d68-95cf-4b2b7aa17c9b",
   "metadata": {},
   "outputs": [
    {
     "name": "stdout",
     "output_type": "stream",
     "text": [
      "DFS Traversal starting from node 0 : 0 1 3 4 2 5 \n"
     ]
    }
   ],
   "source": [
    "// Example graph represented as an adjacency list\n",
    "vector<vector<int>> adjList = {\n",
    "    {1, 2},       // Node 0 is connected to nodes 1 and 2\n",
    "    {0, 3, 4},    // Node 1 is connected to nodes 0, 3, and 4\n",
    "    {0, 4},       // Node 2 is connected to nodes 0 and 4\n",
    "    {1, 4, 5},    // Node 3 is connected to nodes 1, 4, and 5\n",
    "    {1, 2, 3, 5}, // Node 4 is connected to nodes 1, 2, 3, and 5\n",
    "    {3, 4}        // Node 5 is connected to nodes 3 and 4\n",
    "};\n",
    "\n",
    "int n = adjList.size();\n",
    "vector<bool> visited(n, false);\n",
    "\n",
    "int start_node = 0;\n",
    "// Start DFS from node 0\n",
    "cout << \"DFS Traversal starting from node \" << start_node << \" : \";\n",
    "DFS(start_node, adjList, visited);\n",
    "cout << endl;"
   ]
  },
  {
   "cell_type": "markdown",
   "id": "16d494b2-27df-41eb-a492-514d32ff4617",
   "metadata": {},
   "source": [
    "##### Cycle Detection in Undirected Graph"
   ]
  },
  {
   "cell_type": "code",
   "execution_count": 45,
   "id": "77b356b3-79dc-4e2e-a782-f6db8e35c2fe",
   "metadata": {},
   "outputs": [],
   "source": [
    "#include <iostream>\n",
    "#include <vector>\n",
    "#include <list>\n",
    "\n",
    "using namespace std;"
   ]
  },
  {
   "cell_type": "code",
   "execution_count": 46,
   "id": "ad0ece8f-0adf-4d64-b33c-086d54367f0c",
   "metadata": {},
   "outputs": [],
   "source": [
    "bool DFS(int v, vector<bool>& visited, int parent, vector<list<int>>& adj) {\n",
    "    visited[v] = true;\n",
    "\n",
    "    for (int neighbor : adj[v]) {\n",
    "        // If the neighbor is not visited, then recurse on it\n",
    "        if (!visited[neighbor]) {\n",
    "            if (DFS(neighbor, visited, v, adj))\n",
    "                return true;\n",
    "        }\n",
    "        // If an adjacent vertex is visited and is not the parent of the current vertex,\n",
    "        // then there is a cycle\n",
    "        else if (neighbor != parent) {\n",
    "            return true;\n",
    "        }\n",
    "    }\n",
    "    return false;\n",
    "}"
   ]
  },
  {
   "cell_type": "code",
   "execution_count": 47,
   "id": "23812298-5678-469d-a9dd-8e14d2d552cf",
   "metadata": {},
   "outputs": [],
   "source": [
    "\n",
    "bool isCycle(int V, vector<list<int>>& adj) {\n",
    "    vector<bool> visited(V, false);\n",
    "\n",
    "    // Call the recursive helper function to detect cycle in different DFS trees\n",
    "    for (int u = 0; u < V; ++u) {\n",
    "        if (!visited[u]) {\n",
    "            if (DFS(u, visited, -1, adj))\n",
    "                return true;\n",
    "        }\n",
    "    }\n",
    "    return false;\n",
    "}"
   ]
  },
  {
   "cell_type": "code",
   "execution_count": 48,
   "id": "ac910072-dde1-4908-989e-7a7474e18118",
   "metadata": {},
   "outputs": [
    {
     "name": "stdout",
     "output_type": "stream",
     "text": [
      "Graph contains cycle\n"
     ]
    }
   ],
   "source": [
    "int V = 5;  // Number of vertices\n",
    "vector<list<int>> adj(V);\n",
    "\n",
    "// Adding edges to the graph\n",
    "adj[0].push_back(1);\n",
    "adj[1].push_back(0);\n",
    "\n",
    "adj[1].push_back(2);\n",
    "adj[2].push_back(1);\n",
    "\n",
    "adj[2].push_back(0);\n",
    "adj[0].push_back(2);\n",
    "\n",
    "adj[1].push_back(3);\n",
    "adj[3].push_back(1);\n",
    "\n",
    "adj[3].push_back(4);\n",
    "adj[4].push_back(3);\n",
    "\n",
    "if (isCycle(V, adj))\n",
    "    cout << \"Graph contains cycle\" << endl;\n",
    "else\n",
    "    cout << \"Graph doesn't contain cycle\" << endl;"
   ]
  },
  {
   "cell_type": "markdown",
   "id": "d8351ca4-571a-44bb-a33a-3c49a0a2b277",
   "metadata": {},
   "source": [
    "##### Connected Components"
   ]
  },
  {
   "cell_type": "code",
   "execution_count": 49,
   "id": "460158b5-f087-47d6-a8ac-d462eccbac07",
   "metadata": {},
   "outputs": [],
   "source": [
    "#include <vector>\n",
    "#include <iostream>\n",
    "using namespace std;\n",
    "\n",
    "const int N = 10000;\n",
    "vector<int> adj_list[N];\n",
    "bool visited[N];"
   ]
  },
  {
   "cell_type": "code",
   "execution_count": 53,
   "id": "00991a02-e81e-4d94-b44c-13af0ab37560",
   "metadata": {},
   "outputs": [],
   "source": [
    "void dfs(int curr) {\n",
    "    visited[curr] = true;\n",
    "    for (int next : adj_list[curr]) {\n",
    "        if (\n",
    "            visited[next]) continue;\n",
    "        dfs(next);\n",
    "    }\n",
    "}"
   ]
  },
  {
   "cell_type": "code",
   "execution_count": 54,
   "id": "fd47e970-5488-4e47-bebe-b33edf43ca1c",
   "metadata": {},
   "outputs": [
    {
     "name": "stdout",
     "output_type": "stream",
     "text": [
      "Number of Connected Components: 3\n"
     ]
    }
   ],
   "source": [
    "int n = 8, m = 5;\n",
    "\n",
    "adj_list[1].push_back(2);\n",
    "adj_list[2].push_back(1);\n",
    "\n",
    "adj_list[2].push_back(3);\n",
    "adj_list[3].push_back(2);\n",
    "\n",
    "adj_list[2].push_back(4);\n",
    "adj_list[4].push_back(2);\n",
    "\n",
    "adj_list[3].push_back(5);\n",
    "adj_list[5].push_back(3);\n",
    "\n",
    "adj_list[6].push_back(7);\n",
    "adj_list[7].push_back(6);\n",
    "int ans = 0;\n",
    "\n",
    "// Perform DFS for each component\n",
    "for (int i = 1; i <= n; i++) {\n",
    "    if (!visited[i]) {\n",
    "        dfs(i);\n",
    "        ans++;\n",
    "    }\n",
    "}\n",
    "\n",
    "cout << \"Number of Connected Components: \" << ans << '\\n';"
   ]
  },
  {
   "cell_type": "markdown",
   "id": "e36883de-dcfd-41ad-8504-82f62800d9d4",
   "metadata": {},
   "source": [
    "##### Topological Sorting"
   ]
  },
  {
   "cell_type": "code",
   "execution_count": 55,
   "id": "aa239464-adc5-4395-bf5b-cc639995d882",
   "metadata": {},
   "outputs": [],
   "source": [
    "#include <iostream>\n",
    "#include <vector>\n",
    "#include <stack>\n",
    "using namespace std;"
   ]
  },
  {
   "cell_type": "code",
   "execution_count": 57,
   "id": "8a82be9f-ad6b-480e-972f-f8aabaa32d3b",
   "metadata": {},
   "outputs": [],
   "source": [
    "void topologicalSortUtil(int v, vector<bool>& visited, stack<int>& Stack, vector<vector<int>>& adj) {\n",
    "    visited[v] = true;\n",
    "\n",
    "    for (int i = 0; i < adj[v].size(); ++i) {\n",
    "        if (!visited[adj[v][i]]) {\n",
    "            topologicalSortUtil(adj[v][i], visited, Stack, adj);\n",
    "        }\n",
    "    }\n",
    "\n",
    "    Stack.push(v);\n",
    "}\n"
   ]
  },
  {
   "cell_type": "code",
   "execution_count": 58,
   "id": "c29aca00-34ce-4734-86d8-febd45e3bf37",
   "metadata": {},
   "outputs": [],
   "source": [
    "void topologicalSort(int V, vector<vector<int>>& adj) {\n",
    "    stack<int> Stack;\n",
    "    vector<bool> visited(V, false);\n",
    "\n",
    "    for (int i = 0; i < V; i++) {\n",
    "        if (!visited[i]) {\n",
    "            topologicalSortUtil(i, visited, Stack, adj);\n",
    "        }\n",
    "    }\n",
    "\n",
    "    while (!Stack.empty()) {\n",
    "        cout << Stack.top() << \" \";\n",
    "        Stack.pop();\n",
    "    }\n",
    "    cout << endl;\n",
    "}"
   ]
  },
  {
   "cell_type": "code",
   "execution_count": 59,
   "id": "3e85384b-961f-4ddb-9206-75805757a212",
   "metadata": {},
   "outputs": [
    {
     "name": "stdout",
     "output_type": "stream",
     "text": [
      "Topological Sort of the given graph is: \n",
      "5 4 2 3 1 0 \n"
     ]
    }
   ],
   "source": [
    "int V = 6;\n",
    "vector<vector<int>> adj(V);\n",
    "\n",
    "adj[5].push_back(2);\n",
    "adj[5].push_back(0);\n",
    "adj[4].push_back(0);\n",
    "adj[4].push_back(1);\n",
    "adj[2].push_back(3);\n",
    "adj[3].push_back(1);\n",
    "\n",
    "cout << \"Topological Sort of the given graph is: \\n\";\n",
    "topologicalSort(V, adj);"
   ]
  },
  {
   "cell_type": "markdown",
   "id": "5048a918-3feb-453c-a89b-317126bd1133",
   "metadata": {},
   "source": [
    "##### Pathfinding in a Maze"
   ]
  },
  {
   "cell_type": "code",
   "execution_count": 60,
   "id": "bba4d920-694d-4401-91e5-e58475ddd95f",
   "metadata": {},
   "outputs": [],
   "source": [
    "#include <iostream>\n",
    "#include <vector>\n",
    "\n",
    "using namespace std;\n",
    "\n",
    "// Directions arrays for moving in 4 possible directions (up, down, left, right)\n",
    "int dirX[] = {-1, 1, 0, 0};\n",
    "int dirY[] = {0, 0, -1, 1};"
   ]
  },
  {
   "cell_type": "code",
   "execution_count": 61,
   "id": "30d5a01e-f23c-4061-ae58-de5454eab46f",
   "metadata": {},
   "outputs": [],
   "source": [
    "// Function to check if the current cell is valid\n",
    "bool isValid(int x, int y, vector<vector<int>> &maze, vector<vector<bool>> &visited) {\n",
    "    int rows = maze.size();\n",
    "    int cols = maze[0].size();\n",
    "    return (x >= 0 && y >= 0 && x < rows && y < cols && maze[x][y] == 1 && !visited[x][y]);\n",
    "}"
   ]
  },
  {
   "cell_type": "code",
   "execution_count": 64,
   "id": "03ac499f-7ccc-41e4-988e-a1151958a510",
   "metadata": {},
   "outputs": [],
   "source": [
    "// DFS function to find a path in the maze\n",
    "bool dfs(vector<vector<int>> &maze, vector<vector<bool>> &visited, int x, int y, vector<pair<int, int>> &path) {\n",
    "    // If the destination is reached\n",
    "    if (x == maze.size() - 1 && y == maze[0].size() - 1) {\n",
    "        path.push_back({x, y});\n",
    "        return true;\n",
    "    }\n",
    "\n",
    "    // Mark the current cell as visited\n",
    "    visited[x][y] = true;\n",
    "    path.push_back({x, y});\n",
    "\n",
    "    // Explore the four possible directions\n",
    "    for (int i = 0; i < 4; ++i) {\n",
    "        int newX = x + dirX[i];\n",
    "        int newY = y + dirY[i];\n",
    "        if (isValid(newX, newY, maze, visited) && dfs(maze, visited, newX, newY, path)) {\n",
    "            return true;\n",
    "        }\n",
    "    }\n",
    "\n",
    "    // Backtrack if no path is found\n",
    "    path.pop_back();\n",
    "    return false;\n",
    "}\n"
   ]
  },
  {
   "cell_type": "code",
   "execution_count": 65,
   "id": "9eab66d7-7187-42cb-ad65-ec9f6aa2ecd3",
   "metadata": {},
   "outputs": [
    {
     "name": "stdout",
     "output_type": "stream",
     "text": [
      "Path found:\n",
      "(0, 0) (1, 0) (1, 1) (2, 1) (3, 1) (3, 2) (3, 3) \n"
     ]
    }
   ],
   "source": [
    "// Example input: 1 is path, 0 is wall\n",
    "vector<vector<int>> maze = {\n",
    "    {1, 0, 0, 0},\n",
    "    {1, 1, 0, 1},\n",
    "    {0, 1, 0, 0},\n",
    "    {1, 1, 1, 1}\n",
    "};\n",
    "\n",
    "int rows = maze.size();\n",
    "int cols = maze[0].size();\n",
    "\n",
    "vector<vector<bool>> visited(rows, vector<bool>(cols, false));\n",
    "vector<pair<int, int>> path;\n",
    "\n",
    "if (dfs(maze, visited, 0, 0, path)) {\n",
    "    cout << \"Path found:\\n\";\n",
    "    for (auto cell : path) {\n",
    "        cout << \"(\" << cell.first << \", \" << cell.second << \") \";\n",
    "    }\n",
    "    cout << endl;\n",
    "} else {\n",
    "    cout << \"No path found.\\n\";\n",
    "}"
   ]
  },
  {
   "cell_type": "markdown",
   "id": "6fae11bf-1c66-482f-83ea-398667cf1bb0",
   "metadata": {},
   "source": [
    "#### DFS Practice Sums\n",
    "1. [Connected Components in a Graph](https://www.hackerearth.com/problem/algorithm/connected-components-in-a-graph/)\n",
    "2. [Counting Rooms](https://cses.fi/problemset/task/1192)\n",
    "3. [Labyrinth](https://cses.fi/problemset/task/1193)\n",
    "4. [Round Trip](https://cses.fi/problemset/task/1669)\n",
    "\n",
    "Note: Grid/Maze is also a graph, Every square in the grid is a vertex and implicitly there are upto 4 edges -> L, R, U & D\n",
    "\n",
    "![](./files/Maze1.png)\n",
    "\n",
    "When working with grids, you do not need to keep an adjacency list, you can find all 4 adjacent vertices easily:\n",
    "\n",
    "For (x, y) the adjacent vertices are:\n",
    "\n",
    "`int dx[4] = {1, 0, -1, 0};`\n",
    "\n",
    "`int dy[4] = {0, 1, 0, -1};`\n",
    "\n",
    "- (x, y + 1)\n",
    "- (x + 1, y)\n",
    "- (x - 1, y)\n",
    "- (x, y - 1)"
   ]
  },
  {
   "cell_type": "markdown",
   "id": "74dd7b90-bb1c-4ef1-a680-98bc9fd176d6",
   "metadata": {},
   "source": [
    "#### BFS\n",
    "\n",
    "How Would you tackle the below problem?\n",
    "=> Find Minimum number of roads to get from house to school\n",
    "\n",
    "![](./files/BFS.png)\n",
    "\n",
    "\n",
    "The above can be termed as \"Shortest Path Problem\". And since we care only about the number of roads and not the length of the roads, we consider the unweighted graph\n",
    "\n",
    "The general idea to solve this problem is pretty intuitive:\n",
    "- Start with source index, the \"distance\" for that is 0\n",
    "- All vertices adjacent to source have distance 1\n",
    "- All unvisited vertices which are adjacent to atleast one of vertices with distance 1 have distance 2\n",
    "- All unvisited vertices which are adjacent to atleast one of vertices with distance x have distance (x+1)\n",
    "- Keep repeating previous step until the destination is found\n",
    "\n",
    "But how can we implement this as a computer program?\n",
    "Ans: QUEUE\n",
    "\n",
    "![](./files/bfsCode.png)\n",
    "\n",
    "\n",
    "> => We are using a queue because of the FIFO principle. The vertex which is seen first is nearer to the source, so it is best if it is popped first, this guarantees that no vertex with a higher distance from the source is popped before a vertex with a lower distance\n",
    ">\n",
    "> => Time Complexity: O(V+E), the reasoning is similar to DFS, a vertex is visited only once and an edge is considered only twice at most."
   ]
  },
  {
   "cell_type": "markdown",
   "id": "7e821dc4-795b-417d-9a72-01882a7e3919",
   "metadata": {},
   "source": [
    "#### Build Intuition in BFS to code\n",
    "1. BFS Graph Traversal\n",
    "    - Problem: Given a graph, traverse all the nodes and print them in BFS order.\n",
    "    - Learning: Basic implementation of BFS, handling graph representations (adjacency list/matrix), and understanding the traversal order.\n",
    "2. Shortest Path in an Unweighted Graph\n",
    "    - Problem: Given an unweighted graph, find the shortest path from a source node to a target node.\n",
    "    - Learning: Using BFS to find the shortest path in an unweighted graph since BFS naturally explores nodes layer by layer, ensuring the shortest path is found first.\n",
    "3. Cycle Detection in an Undirected Graph\n",
    "    - Problem: Determine if a given undirected graph contains a cycle.\n",
    "    - Learning: Using BFS to detect cycles by keeping track of visited nodes and their parents. If a node is visited again and it’s not the parent, a cycle exists.\n",
    "4. Level Order Traversal in a Binary Tree\n",
    "    - Problem: Given a binary tree, perform a level order traversal and print nodes at each level.\n",
    "    - Learning: Implementing BFS in a tree structure, using a queue to traverse nodes level by level, which is essential for understanding how BFS handles hierarchical data."
   ]
  },
  {
   "cell_type": "markdown",
   "id": "c50b8bfb-f1ab-419e-b015-be74673c7e75",
   "metadata": {},
   "source": [
    "##### BFS Graph Traversal"
   ]
  },
  {
   "cell_type": "code",
   "execution_count": 66,
   "id": "43d06057-757b-4695-85c4-97f64167877f",
   "metadata": {},
   "outputs": [],
   "source": [
    "#include <iostream>\n",
    "#include <vector>\n",
    "#include <queue>\n",
    "#include <list>\n",
    "\n",
    "using namespace std;"
   ]
  },
  {
   "cell_type": "code",
   "execution_count": 67,
   "id": "42114da8-c2fa-46cb-99f8-bdb7f0f5ebde",
   "metadata": {},
   "outputs": [],
   "source": [
    "// Function to perform BFS traversal\n",
    "void BFS(int startNode, const vector<list<int>>& adjList, vector<bool>& visited) {\n",
    "    queue<int> q;  // Create a queue for BFS\n",
    "    visited[startNode] = true;  // Mark the start node as visited\n",
    "    q.push(startNode);  // Enqueue the start node\n",
    "\n",
    "    while (!q.empty()) {\n",
    "        int node = q.front();  // Get the front node from the queue\n",
    "        cout << node << \" \";  // Print the node\n",
    "        q.pop();  // Dequeue the node\n",
    "\n",
    "        // Get all adjacent vertices of the dequeued node\n",
    "        for (auto it = adjList[node].begin(); it != adjList[node].end(); ++it) {\n",
    "            if (!visited[*it]) {  // If the adjacent node is not visited\n",
    "                visited[*it] = true;  // Mark it as visited\n",
    "                q.push(*it);  // Enqueue the adjacent node\n",
    "            }\n",
    "        }\n",
    "    }\n",
    "}"
   ]
  },
  {
   "cell_type": "code",
   "execution_count": 68,
   "id": "3103513d-e12a-4b46-8f54-722659301fcc",
   "metadata": {},
   "outputs": [],
   "source": [
    "// Function to add an edge to the graph\n",
    "void addEdge(vector<list<int>>& adjList, int u, int v) {\n",
    "    adjList[u].push_back(v);  // Add v to u’s list\n",
    "    adjList[v].push_back(u);  // Since the graph is undirected, add u to v's list\n",
    "}"
   ]
  },
  {
   "cell_type": "code",
   "execution_count": 69,
   "id": "97f8fe80-e386-4697-856d-fa698a685cbb",
   "metadata": {},
   "outputs": [
    {
     "name": "stdout",
     "output_type": "stream",
     "text": [
      "BFS Traversal starting from node : 1\n",
      "1 0 2 3 4 "
     ]
    }
   ],
   "source": [
    "int V = 5;  // Number of vertices in the graph\n",
    "vector<list<int>> adjList(V);  // Adjacency list representation of the graph\n",
    "\n",
    "// Adding edges to the graph\n",
    "addEdge(adjList, 0, 1);\n",
    "addEdge(adjList, 0, 2);\n",
    "addEdge(adjList, 1, 2);\n",
    "addEdge(adjList, 1, 3);\n",
    "addEdge(adjList, 2, 3);\n",
    "addEdge(adjList, 3, 4);\n",
    "\n",
    "vector<bool> visited(V, false);  // Vector to keep track of visited nodes\n",
    "\n",
    "int start_node = 1;\n",
    "cout << \"BFS Traversal starting from node : \" << start_node << endl;\n",
    "BFS(start_node, adjList, visited);  // Perform BFS traversal from node 0"
   ]
  },
  {
   "cell_type": "markdown",
   "id": "79f9b8c8-54f0-46c5-988b-dcbf9057a51e",
   "metadata": {},
   "source": [
    "##### Shortest Path in an Unweighted Graph"
   ]
  },
  {
   "cell_type": "code",
   "execution_count": 70,
   "id": "0af50366-6707-49b1-9119-982a50ab4aa9",
   "metadata": {},
   "outputs": [],
   "source": [
    "#include <iostream>\n",
    "#include <vector>\n",
    "#include <queue>\n",
    "#include <unordered_map>\n",
    "#include <list>\n",
    "#include <stack>"
   ]
  },
  {
   "cell_type": "code",
   "execution_count": 71,
   "id": "7e70b8d6-ea34-4131-a54e-63ac1f75f917",
   "metadata": {},
   "outputs": [],
   "source": [
    "// Function to add an edge to the graph\n",
    "void addEdge(std::unordered_map<int, std::list<int>>& graph, int u, int v) {\n",
    "    graph[u].push_back(v);\n",
    "    graph[v].push_back(u);  // For undirected graph\n",
    "}"
   ]
  },
  {
   "cell_type": "code",
   "execution_count": 72,
   "id": "b4c2322c-cb99-4827-9e60-b50ff32943fa",
   "metadata": {},
   "outputs": [],
   "source": [
    "\n",
    "\n",
    "// Function to find the shortest path using BFS\n",
    "std::vector<int> shortestPathBFS(std::unordered_map<int, std::list<int>>& graph, int src, int dest) {\n",
    "    std::unordered_map<int, bool> visited;\n",
    "    std::unordered_map<int, int> parent;\n",
    "    std::queue<int> q;\n",
    "\n",
    "    q.push(src);\n",
    "    visited[src] = true;\n",
    "    parent[src] = -1;\n",
    "\n",
    "    while (!q.empty()) {\n",
    "        int node = q.front();\n",
    "        q.pop();\n",
    "\n",
    "        // If destination node is found\n",
    "        if (node == dest) {\n",
    "            break;\n",
    "        }\n",
    "\n",
    "        for (int neighbor : graph[node]) {\n",
    "            if (!visited[neighbor]) {\n",
    "                q.push(neighbor);\n",
    "                visited[neighbor] = true;\n",
    "                parent[neighbor] = node;\n",
    "            }\n",
    "        }\n",
    "    }\n",
    "\n",
    "    // Reconstructing the path\n",
    "    std::vector<int> path;\n",
    "    for (int at = dest; at != -1; at = parent[at]) {\n",
    "        path.push_back(at);\n",
    "    }\n",
    "    std::reverse(path.begin(), path.end());\n",
    "\n",
    "    // If the source node is not the start of the path, then there is no path\n",
    "    if (path[0] != src) {\n",
    "        path.clear();\n",
    "    }\n",
    "\n",
    "    return path;\n",
    "}"
   ]
  },
  {
   "cell_type": "code",
   "execution_count": 73,
   "id": "658f3d12-1f22-4dbe-ba7d-66aea9739b17",
   "metadata": {},
   "outputs": [
    {
     "name": "stdout",
     "output_type": "stream",
     "text": [
      "Shortest path from 0 to 5: 0 1 3 4 5 \n"
     ]
    }
   ],
   "source": [
    "std::unordered_map<int, std::list<int>> graph;\n",
    "\n",
    "// Adding edges to the graph\n",
    "addEdge(graph, 0, 1);\n",
    "addEdge(graph, 0, 2);\n",
    "addEdge(graph, 1, 2);\n",
    "addEdge(graph, 1, 3);\n",
    "addEdge(graph, 2, 3);\n",
    "addEdge(graph, 3, 4);\n",
    "addEdge(graph, 4, 5);\n",
    "\n",
    "int src = 0;\n",
    "int dest = 5;\n",
    "\n",
    "std::vector<int> path = shortestPathBFS(graph, src, dest);\n",
    "\n",
    "if (path.empty()) {\n",
    "    std::cout << \"No path found from \" << src << \" to \" << dest << std::endl;\n",
    "} else {\n",
    "    std::cout << \"Shortest path from \" << src << \" to \" << dest << \": \";\n",
    "    for (int node : path) {\n",
    "        std::cout << node << \" \";\n",
    "    }\n",
    "    std::cout << std::endl;\n",
    "}"
   ]
  },
  {
   "cell_type": "markdown",
   "id": "d25d1d75-bd14-4650-9007-060b38102d4c",
   "metadata": {},
   "source": [
    "##### Cycle Detection in an Undirected Graph"
   ]
  },
  {
   "cell_type": "code",
   "execution_count": 74,
   "id": "b1c00df3-3171-4a64-8afc-5b8fedef9432",
   "metadata": {},
   "outputs": [],
   "source": [
    "#include <iostream>\n",
    "#include <vector>\n",
    "#include <queue>\n",
    "#include <list>\n",
    "\n",
    "using namespace std;"
   ]
  },
  {
   "cell_type": "code",
   "execution_count": 75,
   "id": "8777bb57-0572-4c6e-9c0d-1bad21f1c5d1",
   "metadata": {},
   "outputs": [],
   "source": [
    "class Graph {\n",
    "    int V; // Number of vertices\n",
    "    list<int> *adj; // Adjacency list\n",
    "\n",
    "public:\n",
    "    Graph(int V);\n",
    "    void addEdge(int v, int w);\n",
    "    bool isCyclic();\n",
    "};"
   ]
  },
  {
   "cell_type": "code",
   "execution_count": 76,
   "id": "5e6972b8-d199-49cf-a88f-f4e81c8652c9",
   "metadata": {},
   "outputs": [],
   "source": [
    "// Constructor\n",
    "Graph::Graph(int V) {\n",
    "    this->V = V;\n",
    "    adj = new list<int>[V];\n",
    "}"
   ]
  },
  {
   "cell_type": "code",
   "execution_count": 77,
   "id": "0093f908-bd6a-4adc-80c1-b9c2a7ddb1e6",
   "metadata": {},
   "outputs": [],
   "source": [
    "// Function to add an edge to the graph\n",
    "void Graph::addEdge(int v, int w) {\n",
    "    adj[v].push_back(w);\n",
    "    adj[w].push_back(v);\n",
    "}"
   ]
  },
  {
   "cell_type": "code",
   "execution_count": 78,
   "id": "40452972-253a-4d59-bd78-181fe9977bf2",
   "metadata": {},
   "outputs": [],
   "source": [
    "// Function to check if the graph contains a cycle\n",
    "bool Graph::isCyclic() {\n",
    "    vector<bool> visited(V, false); // Mark all vertices as not visited\n",
    "\n",
    "    for (int i = 0; i < V; i++) {\n",
    "        if (!visited[i]) { // Don't revisit already checked components\n",
    "            // BFS using queue\n",
    "            queue<pair<int, int>> q; // Pair of (current node, parent node)\n",
    "            visited[i] = true;\n",
    "            q.push({i, -1}); // Start from vertex i with no parent\n",
    "\n",
    "            while (!q.empty()) {\n",
    "                int node = q.front().first;\n",
    "                int parent = q.front().second;\n",
    "                q.pop();\n",
    "\n",
    "                for (auto adjacent : adj[node]) {\n",
    "                    if (!visited[adjacent]) {\n",
    "                        visited[adjacent] = true;\n",
    "                        q.push({adjacent, node});\n",
    "                    } else if (adjacent != parent) {\n",
    "                        // If an adjacent node is visited and not parent, cycle exists\n",
    "                        return true;\n",
    "                    }\n",
    "                }\n",
    "            }\n",
    "        }\n",
    "    }\n",
    "    return false;\n",
    "}"
   ]
  },
  {
   "cell_type": "code",
   "execution_count": 79,
   "id": "54f01fd2-11a8-4a45-9212-353f3f40e577",
   "metadata": {},
   "outputs": [
    {
     "name": "stdout",
     "output_type": "stream",
     "text": [
      "Graph contains cycle\n"
     ]
    }
   ],
   "source": [
    "Graph g(5); // Create a graph with 5 vertices\n",
    "g.addEdge(0, 1);\n",
    "g.addEdge(1, 2);\n",
    "g.addEdge(2, 0);\n",
    "g.addEdge(1, 3);\n",
    "g.addEdge(3, 4);\n",
    "\n",
    "if (g.isCyclic()) {\n",
    "    cout << \"Graph contains cycle\" << endl;\n",
    "} else {\n",
    "    cout << \"Graph doesn't contain cycle\" << endl;\n",
    "}"
   ]
  },
  {
   "cell_type": "markdown",
   "id": "e10a2a12-4e07-479c-b3bd-115fcf8b309f",
   "metadata": {},
   "source": [
    "##### Level Order Traversal in a Binary Tree"
   ]
  },
  {
   "cell_type": "code",
   "execution_count": 80,
   "id": "4b557be2-467e-49d3-8c17-ce6f67ecd1bc",
   "metadata": {},
   "outputs": [],
   "source": [
    "#include <iostream>\n",
    "#include <queue>\n",
    "\n",
    "// Define the structure of a tree node\n",
    "struct TreeNode {\n",
    "    int val;\n",
    "    TreeNode* left;\n",
    "    TreeNode* right;\n",
    "    TreeNode(int x) : val(x), left(nullptr), right(nullptr) {}\n",
    "};"
   ]
  },
  {
   "cell_type": "code",
   "execution_count": 81,
   "id": "5bf548b1-70c3-4720-80b6-75b2494a116a",
   "metadata": {},
   "outputs": [],
   "source": [
    "// Function to perform level order traversal\n",
    "void levelOrderTraversal(TreeNode* root) {\n",
    "    if (root == nullptr) {\n",
    "        return;\n",
    "    }\n",
    "\n",
    "    std::queue<TreeNode*> q;\n",
    "    q.push(root);\n",
    "\n",
    "    while (!q.empty()) {\n",
    "        int levelSize = q.size();  // Number of nodes at the current level\n",
    "\n",
    "        for (int i = 0; i < levelSize; ++i) {\n",
    "            TreeNode* currentNode = q.front();\n",
    "            q.pop();\n",
    "            std::cout << currentNode->val << \" \";\n",
    "\n",
    "            if (currentNode->left != nullptr) {\n",
    "                q.push(currentNode->left);\n",
    "            }\n",
    "            if (currentNode->right != nullptr) {\n",
    "                q.push(currentNode->right);\n",
    "            }\n",
    "        }\n",
    "        std::cout << std::endl;  // Print a new line after each level\n",
    "    }\n",
    "}"
   ]
  },
  {
   "cell_type": "code",
   "execution_count": 82,
   "id": "268f438a-8881-422a-b725-49d5203f3fda",
   "metadata": {},
   "outputs": [],
   "source": [
    "// Helper function to insert nodes in the binary tree for demonstration\n",
    "TreeNode* insertLevelOrder(int arr[], TreeNode* root, int i, int n) {\n",
    "    if (i < n) {\n",
    "        TreeNode* temp = new TreeNode(arr[i]);\n",
    "        root = temp;\n",
    "\n",
    "        root->left = insertLevelOrder(arr, root->left, 2 * i + 1, n);\n",
    "        root->right = insertLevelOrder(arr, root->right, 2 * i + 2, n);\n",
    "    }\n",
    "    return root;\n",
    "}"
   ]
  },
  {
   "cell_type": "code",
   "execution_count": 83,
   "id": "562ebde1-d8a7-43a7-861f-67ffe617f895",
   "metadata": {},
   "outputs": [
    {
     "name": "stdout",
     "output_type": "stream",
     "text": [
      "Level Order Traversal of the binary tree is:\n",
      "1 \n",
      "2 3 \n",
      "4 5 6 7 \n"
     ]
    }
   ],
   "source": [
    "// Create a binary tree using an array representation\n",
    "int arr[] = {1, 2, 3, 4, 5, 6, 7};\n",
    "int n = sizeof(arr) / sizeof(arr[0]);\n",
    "TreeNode* root = insertLevelOrder(arr, root, 0, n);\n",
    "\n",
    "std::cout << \"Level Order Traversal of the binary tree is:\" << std::endl;\n",
    "levelOrderTraversal(root);"
   ]
  },
  {
   "cell_type": "markdown",
   "id": "fe1d23c8-fcd9-4b91-a58c-47cf22df4e11",
   "metadata": {},
   "source": [
    "#### BFS Practice Sums\n",
    "\n",
    "1. [Message Route](https://cses.fi/problemset/task/1667)\n",
    "2. [NAKANJ - Minimum Knight moves !!!](https://www.spoj.com/problems/NAKANJ/)\n",
    "3. [Monsters](https://cses.fi/problemset/task/1194)\n",
    "4. [Snake and Ladder Problem](https://www.geeksforgeeks.org/problems/snake-and-ladder-problem4816/1)"
   ]
  },
  {
   "cell_type": "code",
   "execution_count": null,
   "id": "188121c7-a2c3-411a-b346-afb6d6f198f0",
   "metadata": {},
   "outputs": [],
   "source": []
  }
 ],
 "metadata": {
  "kernelspec": {
   "display_name": "C++14",
   "language": "C++14",
   "name": "xcpp14"
  },
  "language_info": {
   "codemirror_mode": "text/x-c++src",
   "file_extension": ".cpp",
   "mimetype": "text/x-c++src",
   "name": "c++",
   "version": "14"
  }
 },
 "nbformat": 4,
 "nbformat_minor": 5
}
